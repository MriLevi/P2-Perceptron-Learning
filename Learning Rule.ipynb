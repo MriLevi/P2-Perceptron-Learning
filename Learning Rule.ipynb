{
 "cells": [
  {
   "cell_type": "markdown",
   "metadata": {
    "collapsed": true
   },
   "source": [
    "<h1> Perceptron Learning rule </h1>\n",
    "\n",
    "Levi Verhoef - 2022 - levi.verhoef@student.hu.nl - Student#1785902"
   ]
  },
  {
   "cell_type": "code",
   "execution_count": 1,
   "metadata": {},
   "outputs": [],
   "source": [
    "import perceptron_network as pn\n",
    "import activation as act\n",
    "import itertools\n",
    "import random\n",
    "import sklearn\n",
    "random.seed(1785902)"
   ]
  },
  {
   "cell_type": "markdown",
   "metadata": {},
   "source": [
    "<h2> Training and testing the AND Perceptron: </h2>\n",
    "Hier test ik eerst het aanleren van een AND-perceptron, hiervoor gebruik ik willekeurige startwaardes voor de weights en treshold.\n"
   ]
  },
  {
   "cell_type": "code",
   "execution_count": 2,
   "metadata": {},
   "outputs": [
    {
     "name": "stdout",
     "output_type": "stream",
     "text": [
      "Starting values were \n",
      " Bias: -0.5165843002677405 - Threshold: 0.5165843002677405 - Weights: [0.29332688069867574, 0.2953754693113817]\n",
      "After training, values are:\n",
      " bias: -0.5165843002677405 - threshold: 0.5165843002677405 - activation_function: binary_step\n",
      "weights: [0.29332688069867574, 0.2953754693113817], and we have a loss of 0.0\n"
     ]
    }
   ],
   "source": [
    "inputs = list(itertools.product([0, 1], repeat=2))\n",
    "weights = [random.random() for i in range(2)]\n",
    "threshold = random.random()\n",
    "and_perceptron = pn.Perceptron(threshold, act.binary_step, weights)\n",
    "print(f'Starting values were \\n Bias: {-threshold} - Threshold: {threshold} - Weights: {weights}')\n",
    "\n",
    "epochs = 0\n",
    "\n",
    "while epochs < 100:\n",
    "    for i in inputs:\n",
    "        if i == (1,1):\n",
    "            target = 1\n",
    "            and_perceptron.update(i, target)\n",
    "        else:\n",
    "            target = 0\n",
    "            and_perceptron.update(i, target)\n",
    "    epochs+=1\n",
    "\n",
    "print(f'After training, values are:\\n {and_perceptron}, and we have a loss of {and_perceptron.loss()}')"
   ]
  },
  {
   "cell_type": "markdown",
   "metadata": {},
   "source": [
    "Zoals je kunt zien, worden de bias (en dus threshold) en weights aangepast. Ik maak hier gebruik van 100 epochs, dat geeft genoeg tijd voor de perceptron om te leren. Je kunt in bovenstaande uitvoer aflezen wat de verandering zijn en ook de loss, uitgedrukt in MSE.\n"
   ]
  },
  {
   "cell_type": "markdown",
   "metadata": {},
   "source": [
    "Nu moeten we controleren of onze AND perceptron de juiste uitvoer geeft. Alleen bij de input (1,1) geeft de AND perceptron output 1, voor de rest geeft hij output 0."
   ]
  },
  {
   "cell_type": "code",
   "execution_count": 3,
   "metadata": {},
   "outputs": [
    {
     "name": "stdout",
     "output_type": "stream",
     "text": [
      "input = (0, 0), output = 0\n",
      "input = (0, 1), output = 0\n",
      "input = (1, 0), output = 0\n",
      "input = (1, 1), output = 1\n"
     ]
    }
   ],
   "source": [
    "for i in inputs:\n",
    "    ans = and_perceptron.determine_output(i)\n",
    "    print(f'input = {i}, output = {ans}')"
   ]
  },
  {
   "cell_type": "markdown",
   "metadata": {},
   "source": [
    "Dit klopt!"
   ]
  },
  {
   "cell_type": "markdown",
   "metadata": {},
   "source": [
    "<h2> Training and testing the XOR perceptron </h2>\n",
    "\n",
    "Ik maak hier, voordat ik de perceptron train, even de kanttekening dat dit niet gaat werken. De XOR perceptron heeft sowieso een netwerk nodig, omdat XOR niet een lineair scheidbaar probleem is."
   ]
  },
  {
   "cell_type": "code",
   "execution_count": 4,
   "metadata": {},
   "outputs": [
    {
     "name": "stdout",
     "output_type": "stream",
     "text": [
      "Starting values were \n",
      " Bias: -0.9597243079628762 - Threshold: 0.9597243079628762 - Weights: [0.2968815609489063, 0.007930104638984803]\n",
      "After training, values are:\n",
      " bias: 0.08341569973225949 - threshold: -0.08341569973225949 - activation_function: binary_step\n",
      "weights: [0.3933268806986757, 0.3953754693113817], and we have a loss of 0.0075\n"
     ]
    }
   ],
   "source": [
    "inputs = list(itertools.product([0, 1], repeat=2))\n",
    "weights = [random.random() for i in range(2)]\n",
    "threshold = random.random()\n",
    "xor_perceptron = pn.Perceptron(threshold, act.binary_step, weights)\n",
    "print(f'Starting values were \\n Bias: {-threshold} - Threshold: {threshold} - Weights: {weights}')\n",
    "\n",
    "epochs = 0\n",
    "\n",
    "while epochs < 100:\n",
    "    for i in inputs:\n",
    "        if i == (0,1) or (1,0):\n",
    "            target = 1\n",
    "            and_perceptron.update(i, target)\n",
    "        else:\n",
    "            target = 0\n",
    "            and_perceptron.update(i, target)\n",
    "    epochs+=1\n",
    "\n",
    "print(f'After training, values are:\\n {and_perceptron}, and we have a loss of {and_perceptron.loss()}')"
   ]
  },
  {
   "cell_type": "code",
   "execution_count": 5,
   "metadata": {},
   "outputs": [
    {
     "name": "stdout",
     "output_type": "stream",
     "text": [
      "input = (0, 0), output = 0\n",
      "input = (0, 1), output = 0\n",
      "input = (1, 0), output = 0\n",
      "input = (1, 1), output = 0\n"
     ]
    }
   ],
   "source": [
    "for i in inputs:\n",
    "    ans = xor_perceptron.determine_output(i)\n",
    "    print(f'input = {i}, output = {ans}')"
   ]
  },
  {
   "cell_type": "markdown",
   "metadata": {},
   "source": [
    "Zoals verwacht, klopt deze output niet."
   ]
  },
  {
   "cell_type": "markdown",
   "metadata": {},
   "source": [
    "<H2> Iris dataset </h2>"
   ]
  },
  {
   "cell_type": "code",
   "execution_count": 6,
   "metadata": {},
   "outputs": [],
   "source": [
    "from sklearn.datasets import load_iris"
   ]
  },
  {
   "cell_type": "markdown",
   "metadata": {
    "pycharm": {
     "name": "#%% md\n"
    }
   },
   "source": [
    "We laden hier de iris dataset in, selecteren de eerste twee bloemen, target en data, en maken een perceptron aan met willekeurige beginwaardes.\n",
    "Vervolgens trainen we de perceptron op deze data."
   ]
  },
  {
   "cell_type": "code",
   "execution_count": null,
   "outputs": [],
   "source": [
    "iris = load_iris()\n",
    "iris_targets, iris_data = iris['target'], iris['data']\n",
    "iris_2flower_targets, iris_2flower_data = iris_targets[:100], iris_data[:100]\n",
    "\n",
    "partial_iris_perceptron = pn.Perceptron(random.random(), act.binary_step, [random.random() for i in range(4)])\n",
    "print(partial_iris_perceptron)\n",
    "epochs = 0\n",
    "while epochs < 100:\n",
    "    for data, target in zip(iris_2flower_data, iris_2flower_targets):\n",
    "        partial_iris_perceptron.update(data, target)\n",
    "    epochs+=1\n"
   ],
   "metadata": {
    "collapsed": false,
    "pycharm": {
     "name": "#%%\n"
    }
   }
  },
  {
   "cell_type": "markdown",
   "source": [
    "Dit zijn de parameters van de getrainde perceptron. Nu gaan we kijken of hij de bloemen correct classificeert:"
   ],
   "metadata": {
    "collapsed": false
   }
  },
  {
   "cell_type": "code",
   "execution_count": null,
   "outputs": [],
   "source": [
    "correct = 0\n",
    "incorrect = 0\n",
    "for data, target in zip(iris_2flower_data, iris_2flower_targets):\n",
    "    ans = partial_iris_perceptron.determine_output(data)\n",
    "    if ans == target:\n",
    "        correct+=1\n",
    "    else:\n",
    "        incorrect+=1\n",
    "print(f'The perceptron identified {correct} flowers correctly out of 100. It got {incorrect} wrong classifications.')"
   ],
   "metadata": {
    "collapsed": false,
    "pycharm": {
     "name": "#%%\n"
    }
   }
  },
  {
   "cell_type": "markdown",
   "source": [
    "Zoals hierboven af te lezen kan deze perceptron met 100% accuracy deze bloemen klassificeren.\n",
    "\n",
    "Nu gaan we ditzelfde proberen met de gehele dataset."
   ],
   "metadata": {
    "collapsed": false
   }
  },
  {
   "cell_type": "code",
   "execution_count": null,
   "outputs": [],
   "source": [
    "iris_perceptron = pn.Perceptron(random.random(), act.binary_step, [random.random() for i in range(4)])\n",
    "epochs = 0\n",
    "while epochs < 100:\n",
    "    for data, target in zip(iris_data, iris_targets):\n",
    "        iris_perceptron.update(data, target)\n",
    "    epochs+=1\n",
    "print(f'Trained perceptron: {iris_perceptron}')"
   ],
   "metadata": {
    "collapsed": false,
    "pycharm": {
     "name": "#%%\n"
    }
   }
  },
  {
   "cell_type": "markdown",
   "source": [
    "Hier valt gelijk al op dat de weights helemaal de pan uit zijn geschoten. Laten we controleren wat de resultaten zijn:"
   ],
   "metadata": {
    "collapsed": false
   }
  },
  {
   "cell_type": "code",
   "execution_count": null,
   "outputs": [],
   "source": [
    "correct = 0\n",
    "incorrect = 0\n",
    "for data, target in zip(iris_data, iris_targets):\n",
    "    ans = iris_perceptron.determine_output(data)\n",
    "    if ans == target:\n",
    "        correct+=1\n",
    "    else:\n",
    "        incorrect+=1\n",
    "print(f'The perceptron identified {correct} flowers correctly out of 150. It got {incorrect} wrong classifications.')"
   ],
   "metadata": {
    "collapsed": false,
    "pycharm": {
     "name": "#%%\n"
    }
   }
  },
  {
   "cell_type": "markdown",
   "source": [
    "Zoals hier af te lezen is lukt het de perceptron niet goed om deze 3 bloemen uit elkaar te houden. Dit heeft wederom dezelfde reden als de XOR-poort, een perceptron is een lineaire classifier en kan dus allen linearly-seperable problemen oplossen, wat dit niet is."
   ],
   "metadata": {
    "collapsed": false
   }
  },
  {
   "cell_type": "code",
   "execution_count": 7,
   "metadata": {},
   "outputs": [
    {
     "name": "stdout",
     "output_type": "stream",
     "text": [
      "bias: -0.8347079872814823 - threshold: 0.8347079872814823 - activation_function: binary_step\n",
      "weights: [0.8274911549890236, 0.17127800986717134, 0.21276263955162888, 0.03732880317432974]\n"
     ]
    }
   ],
   "source": [
    "Zoals hier af te lezen is lukt het de perceptron niet goed om deze 3 bloemen uit elkaar te houden. Dit heeft wederom dezelfde reden als de XOR-poort, een perceptron is een lineaire classifier en kan dus allen linearly-seperable problemen oplossen, wat dit niet is."
   ]
  },
  {
   "cell_type": "markdown",
   "metadata": {},
   "source": [
    "Dit zijn de parameters van de getrainde perceptron. Nu gaan we kijken of hij de bloemen correct classificeert:"
   ]
  },
  {
   "cell_type": "code",
   "execution_count": 9,
   "metadata": {},
   "outputs": [
    {
     "name": "stdout",
     "output_type": "stream",
     "text": [
      "The perceptron identified 100 flowers correctly out of 100. It got 0 wrong classifications.\n"
     ]
    }
   ],
   "source": [
    "correct = 0\n",
    "incorrect = 0\n",
    "for data, target in zip(iris_2flower_data, iris_2flower_targets):\n",
    "    ans = partial_iris_perceptron.determine_output(data)\n",
    "    if ans == target:\n",
    "        correct+=1\n",
    "    else:\n",
    "        incorrect+=1\n",
    "print(f'The perceptron identified {correct} flowers correctly out of 100. It got {incorrect} wrong classifications.')"
   ]
  },
  {
   "cell_type": "markdown",
   "metadata": {},
   "source": [
    "Zoals hierboven af te lezen kan deze perceptron met 100% accuracy deze bloemen klassificeren.\n",
    "\n",
    "Nu gaan we ditzelfde proberen met de gehele dataset."
   ]
  },
  {
   "cell_type": "code",
   "execution_count": 11,
   "metadata": {},
   "outputs": [
    {
     "name": "stdout",
     "output_type": "stream",
     "text": [
      "Trained perceptron: bias: 4.1285274232881 - threshold: -4.1285274232881 - activation_function: binary_step\n",
      "weights: [815.6439417685541, -209.42775211184593, 2052.722566027801, 891.958811355122]\n"
     ]
    }
   ],
   "source": [
    "iris_perceptron = pn.Perceptron(random.random(), act.binary_step, [random.random() for i in range(4)])\n",
    "epochs = 0\n",
    "while epochs < 100:\n",
    "    for data, target in zip(iris_data, iris_targets):\n",
    "        iris_perceptron.update(data, target)\n",
    "    epochs+=1\n",
    "print(f'Trained perceptron: {iris_perceptron}')"
   ]
  },
  {
   "cell_type": "markdown",
   "metadata": {},
   "source": [
    "Hier valt gelijk al op dat de weights helemaal de pan uit zijn geschoten. Laten we controleren wat de resultaten zijn:"
   ]
  },
  {
   "cell_type": "code",
   "execution_count": 12,
   "metadata": {},
   "outputs": [
    {
     "name": "stdout",
     "output_type": "stream",
     "text": [
      "The perceptron identified 50 flowers correctly out of 150. It got 100 wrong classifications.\n"
     ]
    }
   ],
   "source": [
    "correct = 0\n",
    "incorrect = 0\n",
    "for data, target in zip(iris_data, iris_targets):\n",
    "    ans = iris_perceptron.determine_output(data)\n",
    "    if ans == target:\n",
    "        correct+=1\n",
    "    else:\n",
    "        incorrect+=1\n",
    "print(f'The perceptron identified {correct} flowers correctly out of 150. It got {incorrect} wrong classifications.')"
   ]
  },
  {
   "cell_type": "markdown",
   "metadata": {},
   "source": [
    "Zoals hier af te lezen is lukt het de perceptron niet goed om deze 3 bloemen uit elkaar te houden. Dit heeft wederom dezelfde reden als de XOR-poort, een perceptron is een lineaire classifier en kan dus allen linearly-seperable problemen oplossen, wat dit niet is."
   ]
  }
 ],
 "metadata": {
  "kernelspec": {
   "display_name": "Python 3 (ipykernel)",
   "language": "python",
   "name": "python3"
  },
  "language_info": {
   "codemirror_mode": {
    "name": "ipython",
    "version": 3
   },
   "file_extension": ".py",
   "mimetype": "text/x-python",
   "name": "python",
   "nbconvert_exporter": "python",
   "pygments_lexer": "ipython3",
   "version": "3.8.5"
  }
 },
 "nbformat": 4,
 "nbformat_minor": 1
}